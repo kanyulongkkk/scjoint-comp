{
 "cells": [
  {
   "cell_type": "code",
   "execution_count": 16,
   "id": "a9529007",
   "metadata": {},
   "outputs": [],
   "source": [
    "import numpy as np\n",
    "import h5py"
   ]
  },
  {
   "cell_type": "code",
   "execution_count": 17,
   "id": "61e1778e",
   "metadata": {},
   "outputs": [
    {
     "name": "stdout",
     "output_type": "stream",
     "text": [
      "atlas_atac.npz                   atlas_rna_facs.npz\r\n",
      "atlas_atac_cellTypes.txt         atlas_rna_facs_cellTypes.txt\r\n",
      "atlas_rna_dropseq.npz            label_to_idx.txt\r\n",
      "atlas_rna_dropseq_cellTypes.txt\r\n"
     ]
    }
   ],
   "source": [
    "ls"
   ]
  },
  {
   "cell_type": "code",
   "execution_count": 27,
   "id": "05b35c90",
   "metadata": {},
   "outputs": [],
   "source": [
    "data_indices = np.load(\"atlas_rna_dropseq.npz\")"
   ]
  },
  {
   "cell_type": "code",
   "execution_count": 33,
   "id": "7ef17786",
   "metadata": {},
   "outputs": [
    {
     "name": "stdout",
     "output_type": "stream",
     "text": [
      "[    4    12    17 ... 15505 15516 15518]\n"
     ]
    }
   ],
   "source": [
    "print(data_indices[\"indices\"])"
   ]
  },
  {
   "cell_type": "code",
   "execution_count": 37,
   "id": "e5ad8a0e",
   "metadata": {},
   "outputs": [],
   "source": [
    "with open('demo.json','w',encoding='utf-8') as f:\n",
    "    \n",
    "    for i in data_indices['indices']:\n",
    "        f.writelines(str(i))\n",
    "        f.write(\" \")\n"
   ]
  },
  {
   "cell_type": "code",
   "execution_count": 38,
   "id": "fa15af4d",
   "metadata": {},
   "outputs": [
    {
     "data": {
      "text/plain": [
       "'/Users/kanyulong/PycharmProjects/scJoint/data_atlas'"
      ]
     },
     "execution_count": 38,
     "metadata": {},
     "output_type": "execute_result"
    }
   ],
   "source": [
    "pwd"
   ]
  },
  {
   "cell_type": "code",
   "execution_count": null,
   "id": "642cb97c",
   "metadata": {},
   "outputs": [],
   "source": []
  }
 ],
 "metadata": {
  "kernelspec": {
   "display_name": "Python 3 (ipykernel)",
   "language": "python",
   "name": "python3"
  },
  "language_info": {
   "codemirror_mode": {
    "name": "ipython",
    "version": 3
   },
   "file_extension": ".py",
   "mimetype": "text/x-python",
   "name": "python",
   "nbconvert_exporter": "python",
   "pygments_lexer": "ipython3",
   "version": "3.7.8"
  }
 },
 "nbformat": 4,
 "nbformat_minor": 5
}
